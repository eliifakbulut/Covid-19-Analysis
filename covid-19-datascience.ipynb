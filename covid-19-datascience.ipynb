{
 "cells": [
  {
   "cell_type": "markdown",
   "metadata": {},
   "source": [
    "## 1. Introduction\n",
    "<p><img style=\"float: left; margin:5px 20px 5px 1px; width:40%\" src=\"https://www.nps.gov/aboutus/news/images/CDC-coronavirus-image-23311-for-web.jpg?maxwidth=650&autorotate=false\"></p>\n",
    "<p>In December 2019, COVID-19 coronavirus was first identified in the Wuhan region of China. By March 11, 2020, the World Health Organization (WHO) categorized the COVID-19 outbreak as a pandemic. A lot has happened in the months in between with major outbreaks in Iran, South Korea, and Italy. </p>\n",
    "<p>We know that COVID-19 spreads through respiratory droplets, such as through coughing, sneezing, or speaking. But, how quickly did the virus spread across the globe? And, can we see any effect from country-wide policies, like shutdowns and quarantines? </p>\n",
    "<p>Fortunately, organizations around the world have been collecting data so that governments can monitor and learn from this pandemic. Notably, the Johns Hopkins University Center for Systems Science and Engineering created a <a href=\"https://github.com/RamiKrispin/coronavirus\">publicly available data repository</a> to consolidate this data from sources like the WHO, the Centers for Disease Control and Prevention (CDC), and the Ministry of Health from multiple countries.</p>\n",
    "<p>In this notebook, you will visualize COVID-19 data from the first several weeks of the outbreak to see at what point this virus became a global pandemic.</p>\n",
    "<p><em>Please note that information and data regarding COVID-19 is frequently being updated. The data used in this project was pulled on May 08, 2021, and should not be considered to be the most up to date data available.</em></p>\n"
   ]
  },
  {
   "cell_type": "code",
   "execution_count": 1,
   "metadata": {
    "scrolled": true
   },
   "outputs": [
    {
     "name": "stdout",
     "output_type": "stream",
     "text": [
      "All needed libraries were imported.\n"
     ]
    }
   ],
   "source": [
    "import numpy as np, pandas as pd\n",
    "from IPython.display import Image\n",
    "import matplotlib.pyplot as plt, seaborn as sns\n",
    "import scipy\n",
    "import warnings\n",
    "import plotly.express as px\n",
    "from itertools import product\n",
    "import statsmodels.api as sm\n",
    "import datetime\n",
    "from tqdm import tqdm\n",
    "warnings.filterwarnings('ignore')\n",
    "print('All needed libraries were imported.')"
   ]
  },
  {
   "cell_type": "markdown",
   "metadata": {},
   "source": [
    "## 2. Analyzing World Confirmed Cases Data"
   ]
  },
  {
   "cell_type": "code",
   "execution_count": 3,
   "metadata": {},
   "outputs": [
    {
     "name": "stdout",
     "output_type": "stream",
     "text": [
      "confirmed cases data is loaded.\n"
     ]
    },
    {
     "data": {
      "text/html": [
       "<div>\n",
       "<style scoped>\n",
       "    .dataframe tbody tr th:only-of-type {\n",
       "        vertical-align: middle;\n",
       "    }\n",
       "\n",
       "    .dataframe tbody tr th {\n",
       "        vertical-align: top;\n",
       "    }\n",
       "\n",
       "    .dataframe thead th {\n",
       "        text-align: right;\n",
       "    }\n",
       "</style>\n",
       "<table border=\"1\" class=\"dataframe\">\n",
       "  <thead>\n",
       "    <tr style=\"text-align: right;\">\n",
       "      <th></th>\n",
       "      <th>date</th>\n",
       "      <th>province</th>\n",
       "      <th>country</th>\n",
       "      <th>lat</th>\n",
       "      <th>long</th>\n",
       "      <th>type</th>\n",
       "      <th>cases</th>\n",
       "    </tr>\n",
       "  </thead>\n",
       "  <tbody>\n",
       "    <tr>\n",
       "      <th>0</th>\n",
       "      <td>2020-01-22</td>\n",
       "      <td>NaN</td>\n",
       "      <td>Afghanistan</td>\n",
       "      <td>33.93911</td>\n",
       "      <td>67.709953</td>\n",
       "      <td>confirmed</td>\n",
       "      <td>0</td>\n",
       "    </tr>\n",
       "    <tr>\n",
       "      <th>1</th>\n",
       "      <td>2020-01-22</td>\n",
       "      <td>NaN</td>\n",
       "      <td>Albania</td>\n",
       "      <td>41.15330</td>\n",
       "      <td>20.168300</td>\n",
       "      <td>confirmed</td>\n",
       "      <td>0</td>\n",
       "    </tr>\n",
       "    <tr>\n",
       "      <th>2</th>\n",
       "      <td>2020-01-22</td>\n",
       "      <td>NaN</td>\n",
       "      <td>Algeria</td>\n",
       "      <td>28.03390</td>\n",
       "      <td>1.659600</td>\n",
       "      <td>confirmed</td>\n",
       "      <td>0</td>\n",
       "    </tr>\n",
       "    <tr>\n",
       "      <th>3</th>\n",
       "      <td>2020-01-22</td>\n",
       "      <td>NaN</td>\n",
       "      <td>Andorra</td>\n",
       "      <td>42.50630</td>\n",
       "      <td>1.521800</td>\n",
       "      <td>confirmed</td>\n",
       "      <td>0</td>\n",
       "    </tr>\n",
       "    <tr>\n",
       "      <th>4</th>\n",
       "      <td>2020-01-22</td>\n",
       "      <td>NaN</td>\n",
       "      <td>Angola</td>\n",
       "      <td>-11.20270</td>\n",
       "      <td>17.873900</td>\n",
       "      <td>confirmed</td>\n",
       "      <td>0</td>\n",
       "    </tr>\n",
       "    <tr>\n",
       "      <th>5</th>\n",
       "      <td>2020-01-22</td>\n",
       "      <td>NaN</td>\n",
       "      <td>Antigua and Barbuda</td>\n",
       "      <td>17.06080</td>\n",
       "      <td>-61.796400</td>\n",
       "      <td>confirmed</td>\n",
       "      <td>0</td>\n",
       "    </tr>\n",
       "    <tr>\n",
       "      <th>6</th>\n",
       "      <td>2020-01-22</td>\n",
       "      <td>NaN</td>\n",
       "      <td>Argentina</td>\n",
       "      <td>-38.41610</td>\n",
       "      <td>-63.616700</td>\n",
       "      <td>confirmed</td>\n",
       "      <td>0</td>\n",
       "    </tr>\n",
       "    <tr>\n",
       "      <th>7</th>\n",
       "      <td>2020-01-22</td>\n",
       "      <td>NaN</td>\n",
       "      <td>Armenia</td>\n",
       "      <td>40.06910</td>\n",
       "      <td>45.038200</td>\n",
       "      <td>confirmed</td>\n",
       "      <td>0</td>\n",
       "    </tr>\n",
       "    <tr>\n",
       "      <th>8</th>\n",
       "      <td>2020-01-22</td>\n",
       "      <td>Australian Capital Territory</td>\n",
       "      <td>Australia</td>\n",
       "      <td>-35.47350</td>\n",
       "      <td>149.012400</td>\n",
       "      <td>confirmed</td>\n",
       "      <td>0</td>\n",
       "    </tr>\n",
       "    <tr>\n",
       "      <th>9</th>\n",
       "      <td>2020-01-22</td>\n",
       "      <td>New South Wales</td>\n",
       "      <td>Australia</td>\n",
       "      <td>-33.86880</td>\n",
       "      <td>151.209300</td>\n",
       "      <td>confirmed</td>\n",
       "      <td>0</td>\n",
       "    </tr>\n",
       "  </tbody>\n",
       "</table>\n",
       "</div>"
      ],
      "text/plain": [
       "         date                      province              country       lat  \\\n",
       "0  2020-01-22                           NaN          Afghanistan  33.93911   \n",
       "1  2020-01-22                           NaN              Albania  41.15330   \n",
       "2  2020-01-22                           NaN              Algeria  28.03390   \n",
       "3  2020-01-22                           NaN              Andorra  42.50630   \n",
       "4  2020-01-22                           NaN               Angola -11.20270   \n",
       "5  2020-01-22                           NaN  Antigua and Barbuda  17.06080   \n",
       "6  2020-01-22                           NaN            Argentina -38.41610   \n",
       "7  2020-01-22                           NaN              Armenia  40.06910   \n",
       "8  2020-01-22  Australian Capital Territory            Australia -35.47350   \n",
       "9  2020-01-22               New South Wales            Australia -33.86880   \n",
       "\n",
       "         long       type  cases  \n",
       "0   67.709953  confirmed      0  \n",
       "1   20.168300  confirmed      0  \n",
       "2    1.659600  confirmed      0  \n",
       "3    1.521800  confirmed      0  \n",
       "4   17.873900  confirmed      0  \n",
       "5  -61.796400  confirmed      0  \n",
       "6  -63.616700  confirmed      0  \n",
       "7   45.038200  confirmed      0  \n",
       "8  149.012400  confirmed      0  \n",
       "9  151.209300  confirmed      0  "
      ]
     },
     "execution_count": 3,
     "metadata": {},
     "output_type": "execute_result"
    }
   ],
   "source": [
    "datacase = pd.read_csv('country_cases.csv')\n",
    "print('confirmed cases data is loaded.')\n",
    "datacase.head(10)"
   ]
  },
  {
   "cell_type": "code",
   "execution_count": 4,
   "metadata": {},
   "outputs": [
    {
     "data": {
      "text/plain": [
       "(382320, 7)"
      ]
     },
     "execution_count": 4,
     "metadata": {},
     "output_type": "execute_result"
    }
   ],
   "source": [
    "datacase.shape"
   ]
  },
  {
   "cell_type": "code",
   "execution_count": 5,
   "metadata": {},
   "outputs": [],
   "source": [
    "datacase.drop([\"lat\",\"long\"], axis=1, inplace=True)"
   ]
  },
  {
   "cell_type": "code",
   "execution_count": 6,
   "metadata": {},
   "outputs": [
    {
     "data": {
      "text/html": [
       "<div>\n",
       "<style scoped>\n",
       "    .dataframe tbody tr th:only-of-type {\n",
       "        vertical-align: middle;\n",
       "    }\n",
       "\n",
       "    .dataframe tbody tr th {\n",
       "        vertical-align: top;\n",
       "    }\n",
       "\n",
       "    .dataframe thead th {\n",
       "        text-align: right;\n",
       "    }\n",
       "</style>\n",
       "<table border=\"1\" class=\"dataframe\">\n",
       "  <thead>\n",
       "    <tr style=\"text-align: right;\">\n",
       "      <th></th>\n",
       "      <th>date</th>\n",
       "      <th>province</th>\n",
       "      <th>country</th>\n",
       "      <th>type</th>\n",
       "      <th>cases</th>\n",
       "    </tr>\n",
       "  </thead>\n",
       "  <tbody>\n",
       "    <tr>\n",
       "      <th>0</th>\n",
       "      <td>2020-01-22</td>\n",
       "      <td>NaN</td>\n",
       "      <td>Afghanistan</td>\n",
       "      <td>confirmed</td>\n",
       "      <td>0</td>\n",
       "    </tr>\n",
       "    <tr>\n",
       "      <th>1</th>\n",
       "      <td>2020-01-22</td>\n",
       "      <td>NaN</td>\n",
       "      <td>Albania</td>\n",
       "      <td>confirmed</td>\n",
       "      <td>0</td>\n",
       "    </tr>\n",
       "    <tr>\n",
       "      <th>2</th>\n",
       "      <td>2020-01-22</td>\n",
       "      <td>NaN</td>\n",
       "      <td>Algeria</td>\n",
       "      <td>confirmed</td>\n",
       "      <td>0</td>\n",
       "    </tr>\n",
       "    <tr>\n",
       "      <th>3</th>\n",
       "      <td>2020-01-22</td>\n",
       "      <td>NaN</td>\n",
       "      <td>Andorra</td>\n",
       "      <td>confirmed</td>\n",
       "      <td>0</td>\n",
       "    </tr>\n",
       "    <tr>\n",
       "      <th>4</th>\n",
       "      <td>2020-01-22</td>\n",
       "      <td>NaN</td>\n",
       "      <td>Angola</td>\n",
       "      <td>confirmed</td>\n",
       "      <td>0</td>\n",
       "    </tr>\n",
       "    <tr>\n",
       "      <th>5</th>\n",
       "      <td>2020-01-22</td>\n",
       "      <td>NaN</td>\n",
       "      <td>Antigua and Barbuda</td>\n",
       "      <td>confirmed</td>\n",
       "      <td>0</td>\n",
       "    </tr>\n",
       "    <tr>\n",
       "      <th>6</th>\n",
       "      <td>2020-01-22</td>\n",
       "      <td>NaN</td>\n",
       "      <td>Argentina</td>\n",
       "      <td>confirmed</td>\n",
       "      <td>0</td>\n",
       "    </tr>\n",
       "    <tr>\n",
       "      <th>7</th>\n",
       "      <td>2020-01-22</td>\n",
       "      <td>NaN</td>\n",
       "      <td>Armenia</td>\n",
       "      <td>confirmed</td>\n",
       "      <td>0</td>\n",
       "    </tr>\n",
       "    <tr>\n",
       "      <th>8</th>\n",
       "      <td>2020-01-22</td>\n",
       "      <td>Australian Capital Territory</td>\n",
       "      <td>Australia</td>\n",
       "      <td>confirmed</td>\n",
       "      <td>0</td>\n",
       "    </tr>\n",
       "    <tr>\n",
       "      <th>9</th>\n",
       "      <td>2020-01-22</td>\n",
       "      <td>New South Wales</td>\n",
       "      <td>Australia</td>\n",
       "      <td>confirmed</td>\n",
       "      <td>0</td>\n",
       "    </tr>\n",
       "  </tbody>\n",
       "</table>\n",
       "</div>"
      ],
      "text/plain": [
       "         date                      province              country       type  \\\n",
       "0  2020-01-22                           NaN          Afghanistan  confirmed   \n",
       "1  2020-01-22                           NaN              Albania  confirmed   \n",
       "2  2020-01-22                           NaN              Algeria  confirmed   \n",
       "3  2020-01-22                           NaN              Andorra  confirmed   \n",
       "4  2020-01-22                           NaN               Angola  confirmed   \n",
       "5  2020-01-22                           NaN  Antigua and Barbuda  confirmed   \n",
       "6  2020-01-22                           NaN            Argentina  confirmed   \n",
       "7  2020-01-22                           NaN              Armenia  confirmed   \n",
       "8  2020-01-22  Australian Capital Territory            Australia  confirmed   \n",
       "9  2020-01-22               New South Wales            Australia  confirmed   \n",
       "\n",
       "   cases  \n",
       "0      0  \n",
       "1      0  \n",
       "2      0  \n",
       "3      0  \n",
       "4      0  \n",
       "5      0  \n",
       "6      0  \n",
       "7      0  \n",
       "8      0  \n",
       "9      0  "
      ]
     },
     "execution_count": 6,
     "metadata": {},
     "output_type": "execute_result"
    }
   ],
   "source": [
    "datacase.head(10)"
   ]
  },
  {
   "cell_type": "code",
   "execution_count": 7,
   "metadata": {},
   "outputs": [
    {
     "data": {
      "text/plain": [
       "(382320, 5)"
      ]
     },
     "execution_count": 7,
     "metadata": {},
     "output_type": "execute_result"
    }
   ],
   "source": [
    "datacase.shape"
   ]
  },
  {
   "cell_type": "code",
   "execution_count": 8,
   "metadata": {},
   "outputs": [
    {
     "data": {
      "text/html": [
       "<div>\n",
       "<style scoped>\n",
       "    .dataframe tbody tr th:only-of-type {\n",
       "        vertical-align: middle;\n",
       "    }\n",
       "\n",
       "    .dataframe tbody tr th {\n",
       "        vertical-align: top;\n",
       "    }\n",
       "\n",
       "    .dataframe thead th {\n",
       "        text-align: right;\n",
       "    }\n",
       "</style>\n",
       "<table border=\"1\" class=\"dataframe\">\n",
       "  <thead>\n",
       "    <tr style=\"text-align: right;\">\n",
       "      <th></th>\n",
       "      <th>date</th>\n",
       "      <th>province</th>\n",
       "      <th>country</th>\n",
       "      <th>type</th>\n",
       "      <th>cases</th>\n",
       "    </tr>\n",
       "  </thead>\n",
       "  <tbody>\n",
       "    <tr>\n",
       "      <th>249</th>\n",
       "      <td>2020-01-22</td>\n",
       "      <td>NaN</td>\n",
       "      <td>Turkey</td>\n",
       "      <td>confirmed</td>\n",
       "      <td>0</td>\n",
       "    </tr>\n",
       "    <tr>\n",
       "      <th>524</th>\n",
       "      <td>2020-01-23</td>\n",
       "      <td>NaN</td>\n",
       "      <td>Turkey</td>\n",
       "      <td>confirmed</td>\n",
       "      <td>0</td>\n",
       "    </tr>\n",
       "    <tr>\n",
       "      <th>799</th>\n",
       "      <td>2020-01-24</td>\n",
       "      <td>NaN</td>\n",
       "      <td>Turkey</td>\n",
       "      <td>confirmed</td>\n",
       "      <td>0</td>\n",
       "    </tr>\n",
       "    <tr>\n",
       "      <th>1074</th>\n",
       "      <td>2020-01-25</td>\n",
       "      <td>NaN</td>\n",
       "      <td>Turkey</td>\n",
       "      <td>confirmed</td>\n",
       "      <td>0</td>\n",
       "    </tr>\n",
       "    <tr>\n",
       "      <th>1349</th>\n",
       "      <td>2020-01-26</td>\n",
       "      <td>NaN</td>\n",
       "      <td>Turkey</td>\n",
       "      <td>confirmed</td>\n",
       "      <td>0</td>\n",
       "    </tr>\n",
       "    <tr>\n",
       "      <th>...</th>\n",
       "      <td>...</td>\n",
       "      <td>...</td>\n",
       "      <td>...</td>\n",
       "      <td>...</td>\n",
       "      <td>...</td>\n",
       "    </tr>\n",
       "    <tr>\n",
       "      <th>381254</th>\n",
       "      <td>2021-05-03</td>\n",
       "      <td>NaN</td>\n",
       "      <td>Turkey</td>\n",
       "      <td>recovered</td>\n",
       "      <td>35438</td>\n",
       "    </tr>\n",
       "    <tr>\n",
       "      <th>381514</th>\n",
       "      <td>2021-05-04</td>\n",
       "      <td>NaN</td>\n",
       "      <td>Turkey</td>\n",
       "      <td>recovered</td>\n",
       "      <td>38218</td>\n",
       "    </tr>\n",
       "    <tr>\n",
       "      <th>381774</th>\n",
       "      <td>2021-05-05</td>\n",
       "      <td>NaN</td>\n",
       "      <td>Turkey</td>\n",
       "      <td>recovered</td>\n",
       "      <td>35464</td>\n",
       "    </tr>\n",
       "    <tr>\n",
       "      <th>382034</th>\n",
       "      <td>2021-05-06</td>\n",
       "      <td>NaN</td>\n",
       "      <td>Turkey</td>\n",
       "      <td>recovered</td>\n",
       "      <td>37298</td>\n",
       "    </tr>\n",
       "    <tr>\n",
       "      <th>382294</th>\n",
       "      <td>2021-05-07</td>\n",
       "      <td>NaN</td>\n",
       "      <td>Turkey</td>\n",
       "      <td>recovered</td>\n",
       "      <td>35529</td>\n",
       "    </tr>\n",
       "  </tbody>\n",
       "</table>\n",
       "<p>1416 rows × 5 columns</p>\n",
       "</div>"
      ],
      "text/plain": [
       "              date province country       type  cases\n",
       "249     2020-01-22      NaN  Turkey  confirmed      0\n",
       "524     2020-01-23      NaN  Turkey  confirmed      0\n",
       "799     2020-01-24      NaN  Turkey  confirmed      0\n",
       "1074    2020-01-25      NaN  Turkey  confirmed      0\n",
       "1349    2020-01-26      NaN  Turkey  confirmed      0\n",
       "...            ...      ...     ...        ...    ...\n",
       "381254  2021-05-03      NaN  Turkey  recovered  35438\n",
       "381514  2021-05-04      NaN  Turkey  recovered  38218\n",
       "381774  2021-05-05      NaN  Turkey  recovered  35464\n",
       "382034  2021-05-06      NaN  Turkey  recovered  37298\n",
       "382294  2021-05-07      NaN  Turkey  recovered  35529\n",
       "\n",
       "[1416 rows x 5 columns]"
      ]
     },
     "execution_count": 8,
     "metadata": {},
     "output_type": "execute_result"
    }
   ],
   "source": [
    "datacase_tr = datacase[datacase.country == 'Turkey']\n",
    "datacase_tr"
   ]
  },
  {
   "cell_type": "code",
   "execution_count": 10,
   "metadata": {},
   "outputs": [
    {
     "data": {
      "text/html": [
       "<div>\n",
       "<style scoped>\n",
       "    .dataframe tbody tr th:only-of-type {\n",
       "        vertical-align: middle;\n",
       "    }\n",
       "\n",
       "    .dataframe tbody tr th {\n",
       "        vertical-align: top;\n",
       "    }\n",
       "\n",
       "    .dataframe thead th {\n",
       "        text-align: right;\n",
       "    }\n",
       "</style>\n",
       "<table border=\"1\" class=\"dataframe\">\n",
       "  <thead>\n",
       "    <tr style=\"text-align: right;\">\n",
       "      <th></th>\n",
       "      <th>date</th>\n",
       "      <th>province</th>\n",
       "      <th>country</th>\n",
       "      <th>type</th>\n",
       "      <th>cases</th>\n",
       "    </tr>\n",
       "  </thead>\n",
       "  <tbody>\n",
       "    <tr>\n",
       "      <th>249</th>\n",
       "      <td>2020-01-22</td>\n",
       "      <td>NaN</td>\n",
       "      <td>Turkey</td>\n",
       "      <td>confirmed</td>\n",
       "      <td>0</td>\n",
       "    </tr>\n",
       "    <tr>\n",
       "      <th>524</th>\n",
       "      <td>2020-01-23</td>\n",
       "      <td>NaN</td>\n",
       "      <td>Turkey</td>\n",
       "      <td>confirmed</td>\n",
       "      <td>0</td>\n",
       "    </tr>\n",
       "    <tr>\n",
       "      <th>799</th>\n",
       "      <td>2020-01-24</td>\n",
       "      <td>NaN</td>\n",
       "      <td>Turkey</td>\n",
       "      <td>confirmed</td>\n",
       "      <td>0</td>\n",
       "    </tr>\n",
       "    <tr>\n",
       "      <th>1074</th>\n",
       "      <td>2020-01-25</td>\n",
       "      <td>NaN</td>\n",
       "      <td>Turkey</td>\n",
       "      <td>confirmed</td>\n",
       "      <td>0</td>\n",
       "    </tr>\n",
       "    <tr>\n",
       "      <th>1349</th>\n",
       "      <td>2020-01-26</td>\n",
       "      <td>NaN</td>\n",
       "      <td>Turkey</td>\n",
       "      <td>confirmed</td>\n",
       "      <td>0</td>\n",
       "    </tr>\n",
       "    <tr>\n",
       "      <th>...</th>\n",
       "      <td>...</td>\n",
       "      <td>...</td>\n",
       "      <td>...</td>\n",
       "      <td>...</td>\n",
       "      <td>...</td>\n",
       "    </tr>\n",
       "    <tr>\n",
       "      <th>128674</th>\n",
       "      <td>2021-05-03</td>\n",
       "      <td>NaN</td>\n",
       "      <td>Turkey</td>\n",
       "      <td>confirmed</td>\n",
       "      <td>24733</td>\n",
       "    </tr>\n",
       "    <tr>\n",
       "      <th>128949</th>\n",
       "      <td>2021-05-04</td>\n",
       "      <td>NaN</td>\n",
       "      <td>Turkey</td>\n",
       "      <td>confirmed</td>\n",
       "      <td>28997</td>\n",
       "    </tr>\n",
       "    <tr>\n",
       "      <th>129224</th>\n",
       "      <td>2021-05-05</td>\n",
       "      <td>NaN</td>\n",
       "      <td>Turkey</td>\n",
       "      <td>confirmed</td>\n",
       "      <td>26476</td>\n",
       "    </tr>\n",
       "    <tr>\n",
       "      <th>129499</th>\n",
       "      <td>2021-05-06</td>\n",
       "      <td>NaN</td>\n",
       "      <td>Turkey</td>\n",
       "      <td>confirmed</td>\n",
       "      <td>22388</td>\n",
       "    </tr>\n",
       "    <tr>\n",
       "      <th>129774</th>\n",
       "      <td>2021-05-07</td>\n",
       "      <td>NaN</td>\n",
       "      <td>Turkey</td>\n",
       "      <td>confirmed</td>\n",
       "      <td>20107</td>\n",
       "    </tr>\n",
       "  </tbody>\n",
       "</table>\n",
       "<p>472 rows × 5 columns</p>\n",
       "</div>"
      ],
      "text/plain": [
       "              date province country       type  cases\n",
       "249     2020-01-22      NaN  Turkey  confirmed      0\n",
       "524     2020-01-23      NaN  Turkey  confirmed      0\n",
       "799     2020-01-24      NaN  Turkey  confirmed      0\n",
       "1074    2020-01-25      NaN  Turkey  confirmed      0\n",
       "1349    2020-01-26      NaN  Turkey  confirmed      0\n",
       "...            ...      ...     ...        ...    ...\n",
       "128674  2021-05-03      NaN  Turkey  confirmed  24733\n",
       "128949  2021-05-04      NaN  Turkey  confirmed  28997\n",
       "129224  2021-05-05      NaN  Turkey  confirmed  26476\n",
       "129499  2021-05-06      NaN  Turkey  confirmed  22388\n",
       "129774  2021-05-07      NaN  Turkey  confirmed  20107\n",
       "\n",
       "[472 rows x 5 columns]"
      ]
     },
     "execution_count": 10,
     "metadata": {},
     "output_type": "execute_result"
    }
   ],
   "source": [
    "datacase_tr_confirmed = datacase_tr[datacase_tr.type == 'confirmed']\n",
    "datacase_tr_confirmed"
   ]
  },
  {
   "cell_type": "code",
   "execution_count": 11,
   "metadata": {
    "scrolled": true
   },
   "outputs": [
    {
     "data": {
      "text/html": [
       "<div>\n",
       "<style scoped>\n",
       "    .dataframe tbody tr th:only-of-type {\n",
       "        vertical-align: middle;\n",
       "    }\n",
       "\n",
       "    .dataframe tbody tr th {\n",
       "        vertical-align: top;\n",
       "    }\n",
       "\n",
       "    .dataframe thead th {\n",
       "        text-align: right;\n",
       "    }\n",
       "</style>\n",
       "<table border=\"1\" class=\"dataframe\">\n",
       "  <thead>\n",
       "    <tr style=\"text-align: right;\">\n",
       "      <th></th>\n",
       "      <th>date</th>\n",
       "      <th>province</th>\n",
       "      <th>country</th>\n",
       "      <th>type</th>\n",
       "      <th>cases</th>\n",
       "    </tr>\n",
       "  </thead>\n",
       "  <tbody>\n",
       "    <tr>\n",
       "      <th>259834</th>\n",
       "      <td>2020-01-22</td>\n",
       "      <td>NaN</td>\n",
       "      <td>Turkey</td>\n",
       "      <td>recovered</td>\n",
       "      <td>0</td>\n",
       "    </tr>\n",
       "    <tr>\n",
       "      <th>260094</th>\n",
       "      <td>2020-01-23</td>\n",
       "      <td>NaN</td>\n",
       "      <td>Turkey</td>\n",
       "      <td>recovered</td>\n",
       "      <td>0</td>\n",
       "    </tr>\n",
       "    <tr>\n",
       "      <th>260354</th>\n",
       "      <td>2020-01-24</td>\n",
       "      <td>NaN</td>\n",
       "      <td>Turkey</td>\n",
       "      <td>recovered</td>\n",
       "      <td>0</td>\n",
       "    </tr>\n",
       "    <tr>\n",
       "      <th>260614</th>\n",
       "      <td>2020-01-25</td>\n",
       "      <td>NaN</td>\n",
       "      <td>Turkey</td>\n",
       "      <td>recovered</td>\n",
       "      <td>0</td>\n",
       "    </tr>\n",
       "    <tr>\n",
       "      <th>260874</th>\n",
       "      <td>2020-01-26</td>\n",
       "      <td>NaN</td>\n",
       "      <td>Turkey</td>\n",
       "      <td>recovered</td>\n",
       "      <td>0</td>\n",
       "    </tr>\n",
       "    <tr>\n",
       "      <th>...</th>\n",
       "      <td>...</td>\n",
       "      <td>...</td>\n",
       "      <td>...</td>\n",
       "      <td>...</td>\n",
       "      <td>...</td>\n",
       "    </tr>\n",
       "    <tr>\n",
       "      <th>381254</th>\n",
       "      <td>2021-05-03</td>\n",
       "      <td>NaN</td>\n",
       "      <td>Turkey</td>\n",
       "      <td>recovered</td>\n",
       "      <td>35438</td>\n",
       "    </tr>\n",
       "    <tr>\n",
       "      <th>381514</th>\n",
       "      <td>2021-05-04</td>\n",
       "      <td>NaN</td>\n",
       "      <td>Turkey</td>\n",
       "      <td>recovered</td>\n",
       "      <td>38218</td>\n",
       "    </tr>\n",
       "    <tr>\n",
       "      <th>381774</th>\n",
       "      <td>2021-05-05</td>\n",
       "      <td>NaN</td>\n",
       "      <td>Turkey</td>\n",
       "      <td>recovered</td>\n",
       "      <td>35464</td>\n",
       "    </tr>\n",
       "    <tr>\n",
       "      <th>382034</th>\n",
       "      <td>2021-05-06</td>\n",
       "      <td>NaN</td>\n",
       "      <td>Turkey</td>\n",
       "      <td>recovered</td>\n",
       "      <td>37298</td>\n",
       "    </tr>\n",
       "    <tr>\n",
       "      <th>382294</th>\n",
       "      <td>2021-05-07</td>\n",
       "      <td>NaN</td>\n",
       "      <td>Turkey</td>\n",
       "      <td>recovered</td>\n",
       "      <td>35529</td>\n",
       "    </tr>\n",
       "  </tbody>\n",
       "</table>\n",
       "<p>472 rows × 5 columns</p>\n",
       "</div>"
      ],
      "text/plain": [
       "              date province country       type  cases\n",
       "259834  2020-01-22      NaN  Turkey  recovered      0\n",
       "260094  2020-01-23      NaN  Turkey  recovered      0\n",
       "260354  2020-01-24      NaN  Turkey  recovered      0\n",
       "260614  2020-01-25      NaN  Turkey  recovered      0\n",
       "260874  2020-01-26      NaN  Turkey  recovered      0\n",
       "...            ...      ...     ...        ...    ...\n",
       "381254  2021-05-03      NaN  Turkey  recovered  35438\n",
       "381514  2021-05-04      NaN  Turkey  recovered  38218\n",
       "381774  2021-05-05      NaN  Turkey  recovered  35464\n",
       "382034  2021-05-06      NaN  Turkey  recovered  37298\n",
       "382294  2021-05-07      NaN  Turkey  recovered  35529\n",
       "\n",
       "[472 rows x 5 columns]"
      ]
     },
     "execution_count": 11,
     "metadata": {},
     "output_type": "execute_result"
    }
   ],
   "source": [
    "datacase_tr_recovered = datacase_tr[datacase_tr.type == 'recovered']\n",
    "datacase_tr_recovered"
   ]
  },
  {
   "cell_type": "code",
   "execution_count": 14,
   "metadata": {},
   "outputs": [
    {
     "data": {
      "text/html": [
       "<div>\n",
       "<style scoped>\n",
       "    .dataframe tbody tr th:only-of-type {\n",
       "        vertical-align: middle;\n",
       "    }\n",
       "\n",
       "    .dataframe tbody tr th {\n",
       "        vertical-align: top;\n",
       "    }\n",
       "\n",
       "    .dataframe thead th {\n",
       "        text-align: right;\n",
       "    }\n",
       "</style>\n",
       "<table border=\"1\" class=\"dataframe\">\n",
       "  <thead>\n",
       "    <tr style=\"text-align: right;\">\n",
       "      <th></th>\n",
       "      <th>date</th>\n",
       "      <th>province</th>\n",
       "      <th>country</th>\n",
       "      <th>type</th>\n",
       "      <th>cases</th>\n",
       "    </tr>\n",
       "  </thead>\n",
       "  <tbody>\n",
       "    <tr>\n",
       "      <th>130049</th>\n",
       "      <td>2020-01-22</td>\n",
       "      <td>NaN</td>\n",
       "      <td>Turkey</td>\n",
       "      <td>death</td>\n",
       "      <td>0</td>\n",
       "    </tr>\n",
       "    <tr>\n",
       "      <th>130324</th>\n",
       "      <td>2020-01-23</td>\n",
       "      <td>NaN</td>\n",
       "      <td>Turkey</td>\n",
       "      <td>death</td>\n",
       "      <td>0</td>\n",
       "    </tr>\n",
       "    <tr>\n",
       "      <th>130599</th>\n",
       "      <td>2020-01-24</td>\n",
       "      <td>NaN</td>\n",
       "      <td>Turkey</td>\n",
       "      <td>death</td>\n",
       "      <td>0</td>\n",
       "    </tr>\n",
       "    <tr>\n",
       "      <th>130874</th>\n",
       "      <td>2020-01-25</td>\n",
       "      <td>NaN</td>\n",
       "      <td>Turkey</td>\n",
       "      <td>death</td>\n",
       "      <td>0</td>\n",
       "    </tr>\n",
       "    <tr>\n",
       "      <th>131149</th>\n",
       "      <td>2020-01-26</td>\n",
       "      <td>NaN</td>\n",
       "      <td>Turkey</td>\n",
       "      <td>death</td>\n",
       "      <td>0</td>\n",
       "    </tr>\n",
       "    <tr>\n",
       "      <th>...</th>\n",
       "      <td>...</td>\n",
       "      <td>...</td>\n",
       "      <td>...</td>\n",
       "      <td>...</td>\n",
       "      <td>...</td>\n",
       "    </tr>\n",
       "    <tr>\n",
       "      <th>258474</th>\n",
       "      <td>2021-05-03</td>\n",
       "      <td>NaN</td>\n",
       "      <td>Turkey</td>\n",
       "      <td>death</td>\n",
       "      <td>347</td>\n",
       "    </tr>\n",
       "    <tr>\n",
       "      <th>258749</th>\n",
       "      <td>2021-05-04</td>\n",
       "      <td>NaN</td>\n",
       "      <td>Turkey</td>\n",
       "      <td>death</td>\n",
       "      <td>336</td>\n",
       "    </tr>\n",
       "    <tr>\n",
       "      <th>259024</th>\n",
       "      <td>2021-05-05</td>\n",
       "      <td>NaN</td>\n",
       "      <td>Turkey</td>\n",
       "      <td>death</td>\n",
       "      <td>356</td>\n",
       "    </tr>\n",
       "    <tr>\n",
       "      <th>259299</th>\n",
       "      <td>2021-05-06</td>\n",
       "      <td>NaN</td>\n",
       "      <td>Turkey</td>\n",
       "      <td>death</td>\n",
       "      <td>304</td>\n",
       "    </tr>\n",
       "    <tr>\n",
       "      <th>259574</th>\n",
       "      <td>2021-05-07</td>\n",
       "      <td>NaN</td>\n",
       "      <td>Turkey</td>\n",
       "      <td>death</td>\n",
       "      <td>278</td>\n",
       "    </tr>\n",
       "  </tbody>\n",
       "</table>\n",
       "<p>472 rows × 5 columns</p>\n",
       "</div>"
      ],
      "text/plain": [
       "              date province country   type  cases\n",
       "130049  2020-01-22      NaN  Turkey  death      0\n",
       "130324  2020-01-23      NaN  Turkey  death      0\n",
       "130599  2020-01-24      NaN  Turkey  death      0\n",
       "130874  2020-01-25      NaN  Turkey  death      0\n",
       "131149  2020-01-26      NaN  Turkey  death      0\n",
       "...            ...      ...     ...    ...    ...\n",
       "258474  2021-05-03      NaN  Turkey  death    347\n",
       "258749  2021-05-04      NaN  Turkey  death    336\n",
       "259024  2021-05-05      NaN  Turkey  death    356\n",
       "259299  2021-05-06      NaN  Turkey  death    304\n",
       "259574  2021-05-07      NaN  Turkey  death    278\n",
       "\n",
       "[472 rows x 5 columns]"
      ]
     },
     "execution_count": 14,
     "metadata": {},
     "output_type": "execute_result"
    }
   ],
   "source": [
    "datacase_tr_death = datacase_tr[(datacase_tr[\"type\"] != 'recovered') & (datacase_tr[\"type\"] != 'confirmed')]\n",
    "datacase_tr_death"
   ]
  },
  {
   "cell_type": "markdown",
   "metadata": {},
   "source": [
    "## 3. Analyzing World Vaccination Data"
   ]
  },
  {
   "cell_type": "code",
   "execution_count": null,
   "metadata": {},
   "outputs": [],
   "source": [
    "datavac = pd.read_csv('country_vaccinations.csv')\n",
    "print('world vaccinations data is loaded.')\n",
    "datavac"
   ]
  },
  {
   "cell_type": "code",
   "execution_count": null,
   "metadata": {},
   "outputs": [],
   "source": [
    "datavac.shape"
   ]
  },
  {
   "cell_type": "code",
   "execution_count": null,
   "metadata": {},
   "outputs": [],
   "source": [
    "datavac[datavac.country == 'Turkey'].tail(10)"
   ]
  },
  {
   "cell_type": "code",
   "execution_count": null,
   "metadata": {},
   "outputs": [],
   "source": [
    "datavac = datavac.drop(datavac[(datavac.date=='2021-02-07') | (datavac.date=='2021-02-06')].index)"
   ]
  },
  {
   "cell_type": "markdown",
   "metadata": {},
   "source": [
    "Before: Now, let's check out if we have any missing data in our dataset."
   ]
  },
  {
   "cell_type": "code",
   "execution_count": null,
   "metadata": {},
   "outputs": [],
   "source": [
    "datavac.isna().sum()"
   ]
  },
  {
   "cell_type": "markdown",
   "metadata": {},
   "source": [
    "Before: Let's drop total_vaccinations missing data, as without this value any raw doesn't make much sense."
   ]
  },
  {
   "cell_type": "code",
   "execution_count": null,
   "metadata": {},
   "outputs": [],
   "source": [
    "datavac = datavac.drop(datavac[datavac.total_vaccinations.isna()].index)"
   ]
  },
  {
   "cell_type": "code",
   "execution_count": null,
   "metadata": {},
   "outputs": [],
   "source": [
    "datavac.isna().sum()"
   ]
  },
  {
   "cell_type": "code",
   "execution_count": null,
   "metadata": {},
   "outputs": [],
   "source": [
    "check_data = datavac.drop(datavac[datavac.people_vaccinated.isna()].index)"
   ]
  },
  {
   "cell_type": "code",
   "execution_count": null,
   "metadata": {},
   "outputs": [],
   "source": [
    "check_data.isna().sum()"
   ]
  },
  {
   "cell_type": "code",
   "execution_count": null,
   "metadata": {},
   "outputs": [],
   "source": [
    "check_data.head()"
   ]
  },
  {
   "cell_type": "markdown",
   "metadata": {},
   "source": [
    "After: As can bee seen from our data, the values of total_vaccinations column are mostly the same as people_vaccenated column's. total_vaccinations_per_hundred's and people_vaccinated_per_hundred are also very similar."
   ]
  },
  {
   "cell_type": "markdown",
   "metadata": {},
   "source": [
    "Before:\n",
    "Let's check the correlation to understand if it is so."
   ]
  },
  {
   "cell_type": "code",
   "execution_count": null,
   "metadata": {},
   "outputs": [],
   "source": [
    "plt.subplots(figsize=(8, 8))\n",
    "sns.heatmap(check_data.corr(), annot=True, square=True)\n",
    "plt.show()"
   ]
  },
  {
   "cell_type": "markdown",
   "metadata": {},
   "source": [
    "After:\n",
    "As can bee seen from the heatmap, these features have almost ideal correlation."
   ]
  },
  {
   "cell_type": "markdown",
   "metadata": {},
   "source": [
    "Info: people_vaccinated and people_vaccinated_per_hundred greatly correlates with total_vaccinations and total_vaccinations_per_hundred."
   ]
  },
  {
   "cell_type": "markdown",
   "metadata": {},
   "source": [
    "Info: Let's check the hypothesis that these columns distributions are the same."
   ]
  },
  {
   "cell_type": "markdown",
   "metadata": {},
   "source": [
    "Info: Now and then we will use Mann-Whithey U test for this goal."
   ]
  },
  {
   "cell_type": "markdown",
   "metadata": {},
   "source": [
    "Before: Mann-Whithey U test is used to check the hypothesis that total_vaccinations and people_vaccinated distributions are the same. "
   ]
  },
  {
   "cell_type": "code",
   "execution_count": null,
   "metadata": {},
   "outputs": [],
   "source": [
    "scipy.stats.mannwhitneyu(check_data.total_vaccinations, check_data.people_vaccinated, alternative='two-sided')"
   ]
  },
  {
   "cell_type": "markdown",
   "metadata": {},
   "source": [
    "After: p-value is much less than 0.05, which means we can't reject our hyphotesis therefore we accept our hyphotesis."
   ]
  },
  {
   "cell_type": "markdown",
   "metadata": {},
   "source": [
    "Before: Mann-Whithey U test is used to check the hypothesis that total_vaccinations_per_hundred and people_vaccinated_per_hundred distributions are the same. "
   ]
  },
  {
   "cell_type": "code",
   "execution_count": null,
   "metadata": {},
   "outputs": [],
   "source": [
    "scipy.stats.mannwhitneyu(check_data.total_vaccinations_per_hundred, check_data.people_vaccinated_per_hundred, alternative='two-sided')"
   ]
  },
  {
   "cell_type": "markdown",
   "metadata": {},
   "source": [
    "After: p-value is much less than 0.05, which means we can't reject our hyphotesis therefore we accept our hyphotesis."
   ]
  },
  {
   "cell_type": "markdown",
   "metadata": {},
   "source": [
    "Before: So, we will fill the missing values with the difference of these column's mean values."
   ]
  },
  {
   "cell_type": "code",
   "execution_count": null,
   "metadata": {},
   "outputs": [],
   "source": [
    "diff = check_data.total_vaccinations.mean() - check_data.people_vaccinated.mean()\n",
    "diff_per_hundred = check_data.total_vaccinations_per_hundred.mean() - check_data.people_vaccinated_per_hundred.mean()\n",
    "\n",
    "datavac.people_vaccinated = datavac.people_vaccinated.fillna(datavac.total_vaccinations - diff)\n",
    "datavac.people_vaccinated_per_hundred = datavac.people_vaccinated_per_hundred.fillna(datavac.total_vaccinations_per_hundred - diff_per_hundred)"
   ]
  },
  {
   "cell_type": "markdown",
   "metadata": {},
   "source": [
    "Before: Let's check if everything ok."
   ]
  },
  {
   "cell_type": "code",
   "execution_count": null,
   "metadata": {},
   "outputs": [],
   "source": [
    "datavac.isna().sum()"
   ]
  },
  {
   "cell_type": "markdown",
   "metadata": {},
   "source": [
    "Info: daily_vaccinations and daily_vaccinations_per_million greatly correlates with people_vaccinated and people_vaccinated_per_hundred."
   ]
  },
  {
   "cell_type": "markdown",
   "metadata": {},
   "source": [
    "Before: Let's check the hypothesis that these columns distributions are the same."
   ]
  },
  {
   "cell_type": "code",
   "execution_count": null,
   "metadata": {},
   "outputs": [],
   "source": [
    "scipy.stats.mannwhitneyu(check_data.people_vaccinated, check_data.daily_vaccinations)"
   ]
  },
  {
   "cell_type": "code",
   "execution_count": null,
   "metadata": {},
   "outputs": [],
   "source": [
    "scipy.stats.mannwhitneyu(check_data.people_vaccinated_per_hundred, check_data.daily_vaccinations_per_million)"
   ]
  },
  {
   "cell_type": "markdown",
   "metadata": {},
   "source": [
    "After: p-values are much less than 0.05, which means we will reject our hypothesis."
   ]
  },
  {
   "cell_type": "markdown",
   "metadata": {},
   "source": [
    "Before: So, let's just fill missing values with zeros."
   ]
  },
  {
   "cell_type": "code",
   "execution_count": null,
   "metadata": {},
   "outputs": [],
   "source": [
    "datavac.daily_vaccinations = datavac.daily_vaccinations.fillna(0)\n",
    "datavac.daily_vaccinations_per_million = datavac.daily_vaccinations_per_million.fillna(0)"
   ]
  },
  {
   "cell_type": "markdown",
   "metadata": {},
   "source": [
    "Before: Let's check if everything ok."
   ]
  },
  {
   "cell_type": "code",
   "execution_count": null,
   "metadata": {},
   "outputs": [],
   "source": [
    "datavac.isna().sum()"
   ]
  },
  {
   "cell_type": "markdown",
   "metadata": {},
   "source": [
    "Info: people_fully_vaccinated and people_fully_vaccinated_per_hundred greatly correlates with total_vaccinations and total_vaccinations_per_hundred."
   ]
  },
  {
   "cell_type": "markdown",
   "metadata": {},
   "source": [
    "Before: Let's check the hypothesis that these columns distributions are the same."
   ]
  },
  {
   "cell_type": "code",
   "execution_count": null,
   "metadata": {},
   "outputs": [],
   "source": [
    "scipy.stats.mannwhitneyu(check_data.people_fully_vaccinated, check_data.total_vaccinations)"
   ]
  },
  {
   "cell_type": "code",
   "execution_count": null,
   "metadata": {},
   "outputs": [],
   "source": [
    "scipy.stats.mannwhitneyu(check_data.people_fully_vaccinated_per_hundred, check_data.total_vaccinations_per_hundred)"
   ]
  },
  {
   "cell_type": "markdown",
   "metadata": {},
   "source": [
    "After: p-values are much less than 0.05, which means we will reject our hypothesis."
   ]
  },
  {
   "cell_type": "markdown",
   "metadata": {},
   "source": [
    "Before: Let's fill missing values with 0."
   ]
  },
  {
   "cell_type": "code",
   "execution_count": null,
   "metadata": {},
   "outputs": [],
   "source": [
    "datavac.people_fully_vaccinated = datavac.people_fully_vaccinated.fillna(0)\n",
    "datavac.people_fully_vaccinated_per_hundred = datavac.people_fully_vaccinated_per_hundred.fillna(0)"
   ]
  },
  {
   "cell_type": "markdown",
   "metadata": {},
   "source": [
    "Before: Let's check if everything ok."
   ]
  },
  {
   "cell_type": "code",
   "execution_count": null,
   "metadata": {},
   "outputs": [],
   "source": [
    "datavac.isna().sum()"
   ]
  },
  {
   "cell_type": "markdown",
   "metadata": {},
   "source": [
    "Info: daily_vaccinations_raw greatly correlates with daily_vaccinations."
   ]
  },
  {
   "cell_type": "markdown",
   "metadata": {},
   "source": [
    "Before: Let's check the hypothesis that these columns distributions are the same."
   ]
  },
  {
   "cell_type": "code",
   "execution_count": null,
   "metadata": {},
   "outputs": [],
   "source": [
    "scipy.stats.mannwhitneyu(check_data.daily_vaccinations_raw, check_data.daily_vaccinations)"
   ]
  },
  {
   "cell_type": "markdown",
   "metadata": {},
   "source": [
    "After: p-values are much less than 0.05, which means we will reject our hypothesis."
   ]
  },
  {
   "cell_type": "markdown",
   "metadata": {},
   "source": [
    "Before: Let's fill missing values with 0."
   ]
  },
  {
   "cell_type": "code",
   "execution_count": null,
   "metadata": {},
   "outputs": [],
   "source": [
    "datavac.daily_vaccinations_raw = datavac.daily_vaccinations_raw.fillna(0)"
   ]
  },
  {
   "cell_type": "markdown",
   "metadata": {},
   "source": [
    "Before: Let's check if everything worked fine."
   ]
  },
  {
   "cell_type": "code",
   "execution_count": null,
   "metadata": {},
   "outputs": [],
   "source": [
    "datavac.isna().sum()"
   ]
  },
  {
   "cell_type": "markdown",
   "metadata": {},
   "source": [
    "Before: Let's find out which countries have missing iso-code."
   ]
  },
  {
   "cell_type": "code",
   "execution_count": null,
   "metadata": {},
   "outputs": [],
   "source": [
    "datavac[datavac.iso_code.isna()].country.unique()"
   ]
  },
  {
   "cell_type": "markdown",
   "metadata": {},
   "source": [
    "After: Thats the iso-codes which are used for these countries : GB-ENG for England, NC for Northern Cyprus, GB-NIR for Northern Ireland, GB-SCT for Scotland, GB-WLS for Wales."
   ]
  },
  {
   "cell_type": "markdown",
   "metadata": {},
   "source": [
    "Before: We will fill missing iso-codes with appropriate ones."
   ]
  },
  {
   "cell_type": "code",
   "execution_count": null,
   "metadata": {},
   "outputs": [],
   "source": [
    "datavac[datavac.country == 'England'] = datavac[datavac.country == 'England'].fillna('GB-ENG')\n",
    "datavac[datavac.country == 'Northern Ireland'] == datavac[datavac.country == 'Northern Ireland'].fillna('GB-NIR')\n",
    "datavac[datavac.country == 'Scotland'] = datavac[datavac.country == 'Scotland'].fillna('GB-SCT')\n",
    "datavac[datavac.country == 'Wales'] = datavac[datavac.country == 'Wales'].fillna('GB-WLS')\n",
    "datavac = datavac.fillna('NC')"
   ]
  },
  {
   "cell_type": "markdown",
   "metadata": {},
   "source": [
    "After: We have finally dealt with missing data, which was quite long 😀"
   ]
  },
  {
   "cell_type": "markdown",
   "metadata": {},
   "source": [
    "Before: First of all, let's vizualize which countries do have the highest ammount of vaccinated citizens."
   ]
  },
  {
   "cell_type": "code",
   "execution_count": null,
   "metadata": {},
   "outputs": [],
   "source": [
    "cols = ['country', 'total_vaccinations', 'iso_code', 'vaccines', 'total_vaccinations_per_hundred']\n",
    "vacc_amount = datavac[cols].groupby('country').max().sort_values('total_vaccinations', ascending=False)\n",
    "vacc_amount"
   ]
  },
  {
   "cell_type": "code",
   "execution_count": null,
   "metadata": {},
   "outputs": [],
   "source": [
    "countries =( \"Turkey\")\n",
    "filt = datavac[cols]['country'].eq(countries)\n",
    "datavac1 = datavac.loc[filt]\n",
    "datavac1"
   ]
  },
  {
   "cell_type": "code",
   "execution_count": null,
   "metadata": {
    "scrolled": false
   },
   "outputs": [],
   "source": [
    "datavc1 = datavac1.loc[filt,['country','date','total_vaccinations', 'iso_code', 'vaccines', 'total_vaccinations_per_hundred']]\n",
    "datavac1"
   ]
  },
  {
   "cell_type": "code",
   "execution_count": null,
   "metadata": {},
   "outputs": [],
   "source": [
    "cols = ['country', 'total_vaccinations', 'iso_code', 'vaccines', 'total_vaccinations_per_hundred']\n",
    "vacc_amount = datavac1[cols].groupby('country').max().sort_values('total_vaccinations', ascending=False)\n",
    "vacc_amount"
   ]
  },
  {
   "cell_type": "code",
   "execution_count": null,
   "metadata": {},
   "outputs": [],
   "source": [
    "plt.figure(figsize=(16, 7))\n",
    "plt.bar(vacc_amount.index, vacc_amount.total_vaccinations)\n",
    "plt.xticks(rotation = 90)\n",
    "plt.ylabel('Amount of vaccinated citizens')\n",
    "plt.xlabel('Countries')\n",
    "plt.show()"
   ]
  },
  {
   "cell_type": "markdown",
   "metadata": {},
   "source": [
    "After: As can be seen from the plot, China and USA vaccination amounts are much greater then other countrie's. But the leader in vaccination is USA."
   ]
  },
  {
   "cell_type": "markdown",
   "metadata": {},
   "source": [
    "Before: Let's take a look at the same data, but on the map."
   ]
  },
  {
   "cell_type": "code",
   "execution_count": null,
   "metadata": {},
   "outputs": [],
   "source": [
    "fig = px.choropleth(locations=vacc_amount.iso_code, color=vacc_amount.total_vaccinations, title='Amount of vaccinated citizens', \n",
    "                   color_continuous_scale='rainbow')\n",
    "fig.show('notebook')"
   ]
  },
  {
   "cell_type": "markdown",
   "metadata": {},
   "source": [
    "After: As could be seen from this map, many European countries along with some Arabic counties Indonesia, Argentina and Ecuador have the lowest amount of vaccinated citizens. At the same time, United Kingdom (mostly England, the biggest part of UK) which is really close to Europe is top 3 vaccinations amount country."
   ]
  },
  {
   "cell_type": "markdown",
   "metadata": {},
   "source": [
    "Info: Let's find out which country has the highest level of vaccinated people per hundred."
   ]
  },
  {
   "cell_type": "markdown",
   "metadata": {},
   "source": [
    "Before: This way we will understand, which country has its biggest part of population vaccinated."
   ]
  },
  {
   "cell_type": "code",
   "execution_count": null,
   "metadata": {},
   "outputs": [],
   "source": [
    "vacc_amount = vacc_amount.sort_values('total_vaccinations_per_hundred', ascending=False)"
   ]
  },
  {
   "cell_type": "code",
   "execution_count": null,
   "metadata": {},
   "outputs": [],
   "source": [
    "plt.figure(figsize=(14, 5))\n",
    "plt.bar(vacc_amount.index, vacc_amount.total_vaccinations_per_hundred)\n",
    "plt.xticks(rotation = 90)\n",
    "plt.ylabel('Amount of vaccinated people per hundred')\n",
    "plt.xlabel('Countries')\n",
    "plt.show()"
   ]
  },
  {
   "cell_type": "markdown",
   "metadata": {},
   "source": [
    "After: Israel, UAE, Gibraltar have the highest level of vaccinated people per hundred. ut we shouldn't forget, that the population of these countries isn't really high, so that might be the reason of such a high statistic indicators. \n",
    "United Kingdom (along with England, Northern Ireland, Scotland and Wales) also have really high results, as it's population is almost 7 times higher than UAE's and Israels, and what is really incredible, 2016 times higher than Gibraltar's!"
   ]
  },
  {
   "cell_type": "markdown",
   "metadata": {},
   "source": [
    "Before: Now, let's take a look at the same data on map."
   ]
  },
  {
   "cell_type": "code",
   "execution_count": null,
   "metadata": {},
   "outputs": [],
   "source": [
    "fig = px.choropleth(locations=vacc_amount.iso_code, color=vacc_amount.total_vaccinations_per_hundred, title='Amount of vaccinated citizens per hundred', \n",
    "                   color_continuous_scale='rainbow')\n",
    "fig.show('notebook')"
   ]
  },
  {
   "cell_type": "markdown",
   "metadata": {},
   "source": [
    "After: It could now be seen that USA's level of vaccinated per hundred is also high and the lowest level have Russia, Mexico, Southern America and Asian countries."
   ]
  },
  {
   "cell_type": "markdown",
   "metadata": {},
   "source": [
    "Info: Now let's find out which vaccine is the most popular."
   ]
  },
  {
   "cell_type": "code",
   "execution_count": null,
   "metadata": {},
   "outputs": [],
   "source": [
    "vacc_pop = vacc_amount.groupby('vaccines').sum().sort_values('total_vaccinations', ascending=False)"
   ]
  },
  {
   "cell_type": "code",
   "execution_count": null,
   "metadata": {},
   "outputs": [],
   "source": [
    "plt.figure(figsize=(10, 5))\n",
    "plt.bar(vacc_pop.index, vacc_pop.total_vaccinations)\n",
    "plt.xticks(rotation = 90)\n",
    "plt.ylabel('Amount of vaccinated people')\n",
    "plt.xlabel('Vaccines')\n",
    "plt.show()"
   ]
  },
  {
   "cell_type": "markdown",
   "metadata": {},
   "source": [
    "After: What is shown on the plot, is the fact that Pfizer/BioNTech vaccine seems to be the most popular and the most wide-spread one and Covishield along with Covaxin are problaby least popular."
   ]
  },
  {
   "cell_type": "markdown",
   "metadata": {},
   "source": [
    "Before: Let's also vizualize it on a map."
   ]
  },
  {
   "cell_type": "code",
   "execution_count": null,
   "metadata": {},
   "outputs": [],
   "source": [
    "fig = px.choropleth(locations=vacc_amount.iso_code, color=vacc_amount.vaccines, title='Name of the vaccine', \n",
    "                   color_continuous_scale='rainbow')\n",
    "fig.show()"
   ]
  },
  {
   "cell_type": "markdown",
   "metadata": {},
   "source": [
    "After: It could be easily seen that Pfizer/BioNTech is really the most popular and wide-spread vaccine. People mostly prefer it in Europe and Northern America. The Sputnik V vaccine is used by Russia, Argentina and Serbia. Only Asian countries prefer Covaxin, Covishield. Sinovac is being used in Turkey, Indonesia, Brazil and China and finally, CNBG is only being used in China."
   ]
  },
  {
   "cell_type": "markdown",
   "metadata": {},
   "source": [
    "Before: How the vaccination process changed through the time"
   ]
  },
  {
   "cell_type": "code",
   "execution_count": null,
   "metadata": {},
   "outputs": [],
   "source": [
    "datavac1"
   ]
  },
  {
   "cell_type": "code",
   "execution_count": null,
   "metadata": {},
   "outputs": [],
   "source": [
    "t_cols = ['date', 'total_vaccinations']\n",
    "timeseries_cov = datavac1[t_cols].groupby('date').sum()[4:-1]\n",
    "\n",
    "def invboxcox(y, l):\n",
    "    if l == 0:\n",
    "        return np.exp(y)\n",
    "    else:\n",
    "        return np.exp(np.log(l*y+1)/l)"
   ]
  },
  {
   "cell_type": "code",
   "execution_count": null,
   "metadata": {},
   "outputs": [],
   "source": [
    "timeseries_cov"
   ]
  },
  {
   "cell_type": "code",
   "execution_count": null,
   "metadata": {},
   "outputs": [],
   "source": [
    "plt.figure(figsize=(20,7))\n",
    "timeseries_cov.total_vaccinations.plot()\n",
    "plt.xticks(rotation=45)\n",
    "plt.show()"
   ]
  },
  {
   "cell_type": "markdown",
   "metadata": {},
   "source": [
    "After: What can bee seen, is that despite some days the amount of vaccinated people falls, the vaccination has strong long uptrend."
   ]
  },
  {
   "cell_type": "markdown",
   "metadata": {},
   "source": [
    "Info: Timeseries transformations to make it stationary"
   ]
  },
  {
   "cell_type": "markdown",
   "metadata": {},
   "source": [
    "Info: To be able to predict future values, our timeseries must be stationary."
   ]
  },
  {
   "cell_type": "markdown",
   "metadata": {},
   "source": [
    "Info: Let's check if it is true with the help of Dickey-Fuller test."
   ]
  },
  {
   "cell_type": "markdown",
   "metadata": {},
   "source": [
    "Before: Our hypotethis is, that our timeseries isn't stationary."
   ]
  },
  {
   "cell_type": "code",
   "execution_count": null,
   "metadata": {},
   "outputs": [],
   "source": [
    "print('p-value : {}'.format(sm.tsa.stattools.adfuller(timeseries_cov)[1]))"
   ]
  },
  {
   "cell_type": "markdown",
   "metadata": {},
   "source": [
    "After: Our p-value is extremely high and is higher than 0.05."
   ]
  },
  {
   "cell_type": "markdown",
   "metadata": {},
   "source": [
    "Before: Let's use Box-Cox transformation."
   ]
  },
  {
   "cell_type": "code",
   "execution_count": null,
   "metadata": {},
   "outputs": [],
   "source": [
    "timeseries_cov['total_vaccinations_box'], l = scipy.stats.boxcox(timeseries_cov.total_vaccinations)"
   ]
  },
  {
   "cell_type": "code",
   "execution_count": null,
   "metadata": {},
   "outputs": [],
   "source": [
    "print('p-value : {}'.format(sm.tsa.stattools.adfuller(timeseries_cov.drop(columns=['total_vaccinations']))[1]))"
   ]
  },
  {
   "cell_type": "markdown",
   "metadata": {},
   "source": [
    "After: Our p-value is still higher than 0.05."
   ]
  },
  {
   "cell_type": "code",
   "execution_count": null,
   "metadata": {},
   "outputs": [],
   "source": [
    "plt.figure(figsize=(20,7))\n",
    "timeseries_cov.total_vaccinations_box.plot()\n",
    "plt.xticks(rotation=45)\n",
    "plt.show()"
   ]
  },
  {
   "cell_type": "markdown",
   "metadata": {},
   "source": [
    "After: We will seasonly differentiate our timeseries with the interval of 2 days."
   ]
  },
  {
   "cell_type": "code",
   "execution_count": null,
   "metadata": {},
   "outputs": [],
   "source": [
    "timeseries_cov['total_vaccinations_box_diff1int2'] = timeseries_cov.total_vaccinations_box - timeseries_cov.total_vaccinations_box.shift(2)"
   ]
  },
  {
   "cell_type": "code",
   "execution_count": null,
   "metadata": {},
   "outputs": [],
   "source": [
    "print('p-value : {}'.format(sm.tsa.stattools.adfuller(timeseries_cov.drop(columns=['total_vaccinations', 'total_vaccinations_box'])[2:])[1]))"
   ]
  },
  {
   "cell_type": "markdown",
   "metadata": {},
   "source": [
    "After: Now our p-value is much less than 0.05, which means we could consider our timeseries not to be unstationary. Let's check if it is true with decomposing."
   ]
  },
  {
   "cell_type": "code",
   "execution_count": null,
   "metadata": {},
   "outputs": [],
   "source": [
    "sm.tsa.seasonal_decompose(timeseries_cov.total_vaccinations_box_diff1int2[2:], period=1).plot()\n",
    "plt.show()"
   ]
  },
  {
   "cell_type": "markdown",
   "metadata": {},
   "source": [
    "After: As we can see, trend disappeared because of our differentiation. Let's move on."
   ]
  },
  {
   "cell_type": "markdown",
   "metadata": {},
   "source": [
    "Info: ACF and PACF (Autocorrelation function and Partial autocorrelation function)"
   ]
  },
  {
   "cell_type": "markdown",
   "metadata": {},
   "source": [
    "Before: Now, lets check Autocorrelation and Partial Autocorrelation of our timeseries."
   ]
  },
  {
   "cell_type": "code",
   "execution_count": null,
   "metadata": {},
   "outputs": [],
   "source": [
    "plt.figure(figsize=(20, 7))\n",
    "ax = plt.subplot(211)\n",
    "sm.graphics.tsa.plot_acf(timeseries_cov.drop(columns=['total_vaccinations', 'total_vaccinations_box'])[2:], \n",
    "                         lags=(len(timeseries_cov)-4)/2, ax=ax)\n",
    "ax = plt.subplot(212)\n",
    "sm.graphics.tsa.plot_pacf(timeseries_cov.drop(columns=['total_vaccinations', 'total_vaccinations_box'])[2:], \n",
    "                         lags=(len(timeseries_cov)-4)/2, ax=ax)\n",
    "plt.show()"
   ]
  },
  {
   "cell_type": "markdown",
   "metadata": {},
   "source": [
    "After: We will choose our parameters in range of 0-7."
   ]
  },
  {
   "cell_type": "markdown",
   "metadata": {},
   "source": [
    "Before: As we have done one seasonal and any simple differentiations, D (amount of seasonal diffs) will be 1 and d (amount of simple diffs) will be 0."
   ]
  },
  {
   "cell_type": "code",
   "execution_count": null,
   "metadata": {},
   "outputs": [],
   "source": [
    "d = 0\n",
    "D = 1"
   ]
  },
  {
   "cell_type": "markdown",
   "metadata": {},
   "source": [
    "Before: Now we will train many models and will choose the one with the best Akaike Information Criterion (AIC)."
   ]
  },
  {
   "cell_type": "markdown",
   "metadata": {},
   "source": [
    "%%time\n",
    "results = []\n",
    "best_aic = float('inf')\n",
    "\n",
    "parameters = list(product(np.arange(0, 7), np.arange(0, 7), np.arange(0, 7), np.arange(0, 7)))\n",
    "\n",
    "for param in tqdm(parameters):\n",
    "    try:\n",
    "        arima = sm.tsa.statespace.SARIMAX(timeseries_cov.total_vaccinations_box, order=(param[0], d, param[1]), \n",
    "                                          seasonal_order=(param[2], D, param[3], 2)).fit(disp=False)\n",
    "    except:\n",
    "        continue\n",
    "    aic = arima.aic\n",
    "    if aic < best_aic:\n",
    "        optimal_arima = arima\n",
    "        best_aic = aic\n",
    "        best_param = param\n",
    "    results.append([param, optimal_arima.aic])"
   ]
  },
  {
   "cell_type": "markdown",
   "metadata": {},
   "source": [
    "Before: Let's check the optimal model's info."
   ]
  },
  {
   "cell_type": "markdown",
   "metadata": {},
   "source": [
    "print(optimal_arima.summary())"
   ]
  },
  {
   "cell_type": "markdown",
   "metadata": {},
   "source": [
    "Before: Now, let's compare our timeseries with ARIMA's."
   ]
  },
  {
   "cell_type": "markdown",
   "metadata": {},
   "source": [
    "timeseries_cov['arima'] = invboxcox(optimal_arima.fittedvalues, l)\n",
    "plt.figure(figsize=(20,7))\n",
    "timeseries_cov.total_vaccinations.plot()\n",
    "timeseries_cov.arima.plot(color='r')\n",
    "plt.xticks(rotation=45)\n",
    "plt.show()"
   ]
  },
  {
   "cell_type": "markdown",
   "metadata": {},
   "source": [
    "After: Seems like ARIMA's timeseries is pretty close to ours. Anyway, you can improve it's accuracy with using much higher parameters, which will also take a lot of time."
   ]
  },
  {
   "cell_type": "markdown",
   "metadata": {},
   "source": [
    "Before: Now, let's create predictions for the next week."
   ]
  },
  {
   "cell_type": "markdown",
   "metadata": {},
   "source": [
    "date = ['2021-02-'+str(x) for x in range(10, 17)]\n",
    "timeseries = timeseries_cov['total_vaccinations']\n",
    "pred_df = pd.DataFrame(index=date)\n",
    "pred_df['total_vaccinations'] = invboxcox(optimal_arima.predict(start=44, end=50).values, l)\n",
    "timeseries = pd.concat([timeseries, pred_df])"
   ]
  },
  {
   "cell_type": "markdown",
   "metadata": {},
   "source": [
    "timeseries.drop(columns=[0])[-7:]"
   ]
  },
  {
   "cell_type": "markdown",
   "metadata": {},
   "source": [
    "Before: And at the end let's vizualize our predictions."
   ]
  },
  {
   "cell_type": "markdown",
   "metadata": {},
   "source": [
    "timeseries_cov['arima'] = invboxcox(optimal_arima.fittedvalues, l)\n",
    "plt.figure(figsize=(20,7))\n",
    "timeseries.total_vaccinations.plot(color='r')\n",
    "timeseries_cov.total_vaccinations.plot()\n",
    "plt.xticks(rotation=45)\n",
    "plt.show()"
   ]
  },
  {
   "cell_type": "markdown",
   "metadata": {},
   "source": [
    "Read datasets/confirmed_cases_worldwide.csv into confirmed_cases_worldwide"
   ]
  },
  {
   "cell_type": "markdown",
   "metadata": {},
   "source": [
    "confirmed_cases_worldwide = pd.read_csv('confirmed_cases_worldwide.csv')"
   ]
  },
  {
   "cell_type": "markdown",
   "metadata": {},
   "source": [
    "See the result"
   ]
  },
  {
   "cell_type": "markdown",
   "metadata": {},
   "source": [
    "confirmed_cases_worldwide.head()"
   ]
  },
  {
   "cell_type": "markdown",
   "metadata": {},
   "source": [
    "Draw a line plot of cumulative cases vs. date"
   ]
  },
  {
   "cell_type": "markdown",
   "metadata": {},
   "source": [
    "Label the y-axis"
   ]
  },
  {
   "cell_type": "markdown",
   "metadata": {},
   "source": [
    "ggplot(confirmed_cases_worldwide, aes(x=date,y=cum_cases)) +\n",
    "  geom_line() +\n",
    "  ylab(\"Cumulative confirmed cases\")"
   ]
  }
 ],
 "metadata": {
  "kernelspec": {
   "display_name": "Python 3",
   "language": "python",
   "name": "python3"
  },
  "language_info": {
   "codemirror_mode": {
    "name": "ipython",
    "version": 3
   },
   "file_extension": ".py",
   "mimetype": "text/x-python",
   "name": "python",
   "nbconvert_exporter": "python",
   "pygments_lexer": "ipython3",
   "version": "3.8.5"
  }
 },
 "nbformat": 4,
 "nbformat_minor": 1
}
